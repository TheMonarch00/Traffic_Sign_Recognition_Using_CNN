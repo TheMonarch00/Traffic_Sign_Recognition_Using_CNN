{
  "nbformat": 4,
  "nbformat_minor": 0,
  "metadata": {
    "colab": {
      "name": "Traffic_Sign_Recognition.ipynb",
      "provenance": [],
      "collapsed_sections": [],
      "mount_file_id": "1bwUF3DblhpWpTpeZYcyGMrPAzeLJAcjV",
      "authorship_tag": "ABX9TyNEpLP41m+EqpwQwRdknxUn",
      "include_colab_link": true
    },
    "kernelspec": {
      "name": "python3",
      "display_name": "Python 3"
    },
    "language_info": {
      "name": "python"
    },
    "accelerator": "GPU"
  },
  "cells": [
    {
      "cell_type": "markdown",
      "metadata": {
        "id": "view-in-github",
        "colab_type": "text"
      },
      "source": [
        "<a href=\"https://colab.research.google.com/github/TheMonarch00/Traffic_Sign_Recognition_Using_CNN/blob/main/Traffic_Sign_Recognition.ipynb\" target=\"_parent\"><img src=\"https://colab.research.google.com/assets/colab-badge.svg\" alt=\"Open In Colab\"/></a>"
      ]
    },
    {
      "cell_type": "code",
      "source": [
        "from google.colab import drive\n",
        "drive.mount('/content/drive')"
      ],
      "metadata": {
        "colab": {
          "base_uri": "https://localhost:8080/"
        },
        "id": "26IrouuI8_HG",
        "outputId": "d6f24f67-db3d-4a5e-f6ad-88b6248abffa"
      },
      "execution_count": 1,
      "outputs": [
        {
          "output_type": "stream",
          "name": "stdout",
          "text": [
            "Drive already mounted at /content/drive; to attempt to forcibly remount, call drive.mount(\"/content/drive\", force_remount=True).\n"
          ]
        }
      ]
    },
    {
      "cell_type": "code",
      "metadata": {
        "id": "voSUHVovuhXP"
      },
      "source": [
        "import numpy as np\n",
        "import pandas as pd\n",
        "import matplotlib.pyplot as plt\n",
        "import tensorflow as tf\n",
        "import cv2\n",
        "from PIL import Image\n",
        "import os\n",
        "os.chdir('/content/drive/MyDrive/Traffic Sign Classification')\n",
        "from sklearn.model_selection import train_test_split\n",
        "from tensorflow.keras.utils import to_categorical\n",
        "from keras.models import Sequential, load_model\n",
        "from keras.layers import Conv2D, MaxPool2D, Dense, Flatten, Dropout\n"
      ],
      "execution_count": 7,
      "outputs": []
    },
    {
      "cell_type": "code",
      "metadata": {
        "id": "aSkGzZxDwp_H"
      },
      "source": [
        "data = []\n",
        "labels = []\n",
        "classes = 43\n",
        "cur_path = os.getcwd()"
      ],
      "execution_count": 8,
      "outputs": []
    },
    {
      "cell_type": "code",
      "metadata": {
        "colab": {
          "base_uri": "https://localhost:8080/",
          "height": 35
        },
        "id": "QDYlLYXg9kxo",
        "outputId": "fb9afa70-40f9-4411-f28b-d54659ece527"
      },
      "source": [
        "cur_path"
      ],
      "execution_count": 9,
      "outputs": [
        {
          "output_type": "execute_result",
          "data": {
            "application/vnd.google.colaboratory.intrinsic+json": {
              "type": "string"
            },
            "text/plain": [
              "'/content/drive/MyDrive/Traffic Sign Classification'"
            ]
          },
          "metadata": {},
          "execution_count": 9
        }
      ]
    },
    {
      "cell_type": "code",
      "metadata": {
        "id": "PcWpPUAS99kX"
      },
      "source": [
        "for i in range(classes):\n",
        "  path = os.path.join(cur_path,'Train',str(i))\n",
        "  images = os.listdir(path)\n",
        "  for a in images:\n",
        "    try:\n",
        "      image = Image.open(path + '/' + a)\n",
        "      image = image.resize((30,30))\n",
        "      image = np.array(image)\n",
        "      data.append(image)\n",
        "      labels.append(i)\n",
        "    except Exception as e:\n",
        "      print(e)"
      ],
      "execution_count": 10,
      "outputs": []
    },
    {
      "cell_type": "code",
      "metadata": {
        "id": "DCJQXegGWo90"
      },
      "source": [
        "data = np.array(data)\n",
        "labels = np.array(labels)"
      ],
      "execution_count": 11,
      "outputs": []
    },
    {
      "cell_type": "code",
      "metadata": {
        "id": "oJWsytvPHHfx",
        "colab": {
          "base_uri": "https://localhost:8080/"
        },
        "outputId": "056293c4-ee5b-42f6-fe2f-783ee8696ae4"
      },
      "source": [
        "%mkdir training\n",
        "np.save(\"./training/data.npy\",data)\n",
        "np.save(\"./training/labels.npy\",labels)"
      ],
      "execution_count": 12,
      "outputs": [
        {
          "output_type": "stream",
          "name": "stdout",
          "text": [
            "mkdir: cannot create directory ‘training’: File exists\n"
          ]
        }
      ]
    },
    {
      "cell_type": "code",
      "metadata": {
        "id": "TNtkL521WcDm"
      },
      "source": [
        "data = np.load(\"./training/data.npy\")\n",
        "labels = np.load(\"./training/labels.npy\")"
      ],
      "execution_count": 30,
      "outputs": []
    },
    {
      "cell_type": "code",
      "metadata": {
        "colab": {
          "base_uri": "https://localhost:8080/"
        },
        "id": "cqfTb7LVNQpr",
        "outputId": "471f963c-c755-48e4-dc2a-084e48c262b6"
      },
      "source": [
        "print(data.shape,labels.shape)"
      ],
      "execution_count": 31,
      "outputs": [
        {
          "output_type": "stream",
          "name": "stdout",
          "text": [
            "(39219, 30, 30, 3) (39219,)\n"
          ]
        }
      ]
    },
    {
      "cell_type": "code",
      "metadata": {
        "id": "dcFwK_jcP82S"
      },
      "source": [
        "x_train,x_test,y_train,y_test = train_test_split(data, labels, test_size = 0.2, random_state = 1)"
      ],
      "execution_count": 32,
      "outputs": []
    },
    {
      "cell_type": "code",
      "metadata": {
        "colab": {
          "base_uri": "https://localhost:8080/"
        },
        "id": "8MLWgtTRQ81h",
        "outputId": "f3f606dd-a2a1-4766-a04d-81808d84213f"
      },
      "source": [
        "print(x_train.shape,x_test.shape,y_train.shape,y_test.shape)"
      ],
      "execution_count": 33,
      "outputs": [
        {
          "output_type": "stream",
          "name": "stdout",
          "text": [
            "(31375, 30, 30, 3) (7844, 30, 30, 3) (31375,) (7844,)\n"
          ]
        }
      ]
    },
    {
      "cell_type": "code",
      "metadata": {
        "id": "UmL_S-pMRHrM"
      },
      "source": [
        "y_train = to_categorical(y_train,43) \n",
        "y_test = to_categorical(y_test,43)"
      ],
      "execution_count": 34,
      "outputs": []
    },
    {
      "cell_type": "code",
      "metadata": {
        "id": "6OAgWrqXRpg0"
      },
      "source": [
        "model = Sequential()\n",
        "model.add(Conv2D(filters = 32,kernel_size=(5,5), activation='relu',input_shape = x_train.shape[1:]))\n",
        "model.add(Conv2D(filters = 32,kernel_size=(5,5), activation='relu'))\n",
        "model.add(MaxPool2D(pool_size=(2,2)))\n",
        "model.add(Dropout(rate=0.25))\n",
        "model.add(Conv2D(filters = 64,kernel_size=(3,3), activation='relu'))\n",
        "model.add(Conv2D(filters = 64,kernel_size=(3,3), activation='relu'))\n",
        "model.add(MaxPool2D(pool_size=(2,2)))\n",
        "model.add(Dropout(rate=0.25))\n",
        "model.add(Flatten())\n",
        "model.add(Dense(256,activation='relu'))\n",
        "model.add(Dropout(rate=0.5))\n",
        "model.add(Dense(43,activation='softmax'))"
      ],
      "execution_count": 35,
      "outputs": []
    },
    {
      "cell_type": "code",
      "metadata": {
        "id": "ri69EgI-TgYk"
      },
      "source": [
        "model.compile(loss = 'categorical_crossentropy', optimizer='adam',metrics=['accuracy'])"
      ],
      "execution_count": 36,
      "outputs": []
    },
    {
      "cell_type": "code",
      "metadata": {
        "colab": {
          "base_uri": "https://localhost:8080/"
        },
        "id": "29FKTiZzUIau",
        "outputId": "973bd540-5911-4888-edbd-4004643ad4da"
      },
      "source": [
        "Sign = model.fit(x_train,y_train,batch_size=32,epochs=30,validation_data=(x_test,y_test))"
      ],
      "execution_count": 37,
      "outputs": [
        {
          "output_type": "stream",
          "name": "stdout",
          "text": [
            "Epoch 1/30\n",
            "981/981 [==============================] - 13s 12ms/step - loss: 2.2377 - accuracy: 0.3994 - val_loss: 0.9613 - val_accuracy: 0.7186\n",
            "Epoch 2/30\n",
            "981/981 [==============================] - 11s 11ms/step - loss: 0.9393 - accuracy: 0.7193 - val_loss: 0.2583 - val_accuracy: 0.9222\n",
            "Epoch 3/30\n",
            "981/981 [==============================] - 11s 11ms/step - loss: 0.4824 - accuracy: 0.8558 - val_loss: 0.2617 - val_accuracy: 0.9306\n",
            "Epoch 4/30\n",
            "981/981 [==============================] - 11s 11ms/step - loss: 0.3563 - accuracy: 0.8958 - val_loss: 0.0843 - val_accuracy: 0.9762\n",
            "Epoch 5/30\n",
            "981/981 [==============================] - 11s 11ms/step - loss: 0.2879 - accuracy: 0.9186 - val_loss: 0.1666 - val_accuracy: 0.9526\n",
            "Epoch 6/30\n",
            "981/981 [==============================] - 11s 11ms/step - loss: 0.2687 - accuracy: 0.9249 - val_loss: 0.0783 - val_accuracy: 0.9802\n",
            "Epoch 7/30\n",
            "981/981 [==============================] - 11s 11ms/step - loss: 0.2524 - accuracy: 0.9296 - val_loss: 0.0813 - val_accuracy: 0.9788\n",
            "Epoch 8/30\n",
            "981/981 [==============================] - 11s 11ms/step - loss: 0.2486 - accuracy: 0.9318 - val_loss: 0.0754 - val_accuracy: 0.9801\n",
            "Epoch 9/30\n",
            "981/981 [==============================] - 11s 11ms/step - loss: 0.2296 - accuracy: 0.9386 - val_loss: 0.0713 - val_accuracy: 0.9832\n",
            "Epoch 10/30\n",
            "981/981 [==============================] - 11s 11ms/step - loss: 0.2426 - accuracy: 0.9372 - val_loss: 0.0651 - val_accuracy: 0.9814\n",
            "Epoch 11/30\n",
            "981/981 [==============================] - 11s 11ms/step - loss: 0.2381 - accuracy: 0.9379 - val_loss: 0.0621 - val_accuracy: 0.9836\n",
            "Epoch 12/30\n",
            "981/981 [==============================] - 11s 11ms/step - loss: 0.2460 - accuracy: 0.9384 - val_loss: 0.0808 - val_accuracy: 0.9758\n",
            "Epoch 13/30\n",
            "981/981 [==============================] - 11s 11ms/step - loss: 0.2266 - accuracy: 0.9423 - val_loss: 0.0518 - val_accuracy: 0.9864\n",
            "Epoch 14/30\n",
            "981/981 [==============================] - 11s 11ms/step - loss: 0.2338 - accuracy: 0.9417 - val_loss: 0.0544 - val_accuracy: 0.9860\n",
            "Epoch 15/30\n",
            "981/981 [==============================] - 10s 11ms/step - loss: 0.2468 - accuracy: 0.9377 - val_loss: 0.0635 - val_accuracy: 0.9829\n",
            "Epoch 16/30\n",
            "981/981 [==============================] - 11s 11ms/step - loss: 0.2470 - accuracy: 0.9372 - val_loss: 0.0421 - val_accuracy: 0.9893\n",
            "Epoch 17/30\n",
            "981/981 [==============================] - 10s 11ms/step - loss: 0.2624 - accuracy: 0.9355 - val_loss: 0.0531 - val_accuracy: 0.9864\n",
            "Epoch 18/30\n",
            "981/981 [==============================] - 11s 11ms/step - loss: 0.2318 - accuracy: 0.9417 - val_loss: 0.0438 - val_accuracy: 0.9892\n",
            "Epoch 19/30\n",
            "981/981 [==============================] - 10s 11ms/step - loss: 0.2745 - accuracy: 0.9364 - val_loss: 0.0515 - val_accuracy: 0.9858\n",
            "Epoch 20/30\n",
            "981/981 [==============================] - 10s 11ms/step - loss: 0.2138 - accuracy: 0.9480 - val_loss: 0.0626 - val_accuracy: 0.9839\n",
            "Epoch 21/30\n",
            "981/981 [==============================] - 11s 11ms/step - loss: 0.2236 - accuracy: 0.9463 - val_loss: 0.0545 - val_accuracy: 0.9847\n",
            "Epoch 22/30\n",
            "981/981 [==============================] - 11s 11ms/step - loss: 0.2325 - accuracy: 0.9460 - val_loss: 0.0489 - val_accuracy: 0.9866\n",
            "Epoch 23/30\n",
            "981/981 [==============================] - 10s 11ms/step - loss: 0.2471 - accuracy: 0.9412 - val_loss: 0.0827 - val_accuracy: 0.9774\n",
            "Epoch 24/30\n",
            "981/981 [==============================] - 10s 11ms/step - loss: 0.2175 - accuracy: 0.9471 - val_loss: 0.0386 - val_accuracy: 0.9884\n",
            "Epoch 25/30\n",
            "981/981 [==============================] - 10s 11ms/step - loss: 0.2098 - accuracy: 0.9495 - val_loss: 0.0357 - val_accuracy: 0.9899\n",
            "Epoch 26/30\n",
            "981/981 [==============================] - 11s 11ms/step - loss: 0.2564 - accuracy: 0.9423 - val_loss: 0.0358 - val_accuracy: 0.9892\n",
            "Epoch 27/30\n",
            "981/981 [==============================] - 11s 11ms/step - loss: 0.2610 - accuracy: 0.9425 - val_loss: 0.0386 - val_accuracy: 0.9911\n",
            "Epoch 28/30\n",
            "981/981 [==============================] - 11s 11ms/step - loss: 0.2282 - accuracy: 0.9490 - val_loss: 0.0369 - val_accuracy: 0.9901\n",
            "Epoch 29/30\n",
            "981/981 [==============================] - 10s 11ms/step - loss: 0.2361 - accuracy: 0.9472 - val_loss: 0.0837 - val_accuracy: 0.9797\n",
            "Epoch 30/30\n",
            "981/981 [==============================] - 11s 11ms/step - loss: 0.2577 - accuracy: 0.9429 - val_loss: 0.0595 - val_accuracy: 0.9846\n"
          ]
        }
      ]
    },
    {
      "cell_type": "code",
      "metadata": {
        "colab": {
          "base_uri": "https://localhost:8080/",
          "height": 295
        },
        "id": "raE14DNnU5Kt",
        "outputId": "a68ce9f0-ee41-4d2e-df5e-f1c51ca97a43"
      },
      "source": [
        "plt.figure(0)\n",
        "plt.plot(Sign.history['accuracy'],label = \"Training Accuracy\")\n",
        "plt.plot(Sign.history['val_accuracy'],label = \"val accuracy\")\n",
        "plt.title(\"Accuracy\")\n",
        "plt.xlabel(\"Epochs\")\n",
        "plt.ylabel(\"accuracy\")\n",
        "plt.legend()\n",
        "plt.show()"
      ],
      "execution_count": 38,
      "outputs": [
        {
          "output_type": "display_data",
          "data": {
            "image/png": "[encoded data removed]",
            "text/plain": [
              "<Figure size 432x288 with 1 Axes>"
            ]
          },
          "metadata": {
            "needs_background": "light"
          }
        }
      ]
    },
    {
      "cell_type": "code",
      "metadata": {
        "colab": {
          "base_uri": "https://localhost:8080/",
          "height": 295
        },
        "id": "E3WqxAvPjB_F",
        "outputId": "58df271a-dc8d-49ad-cd63-8fe6432b9efe"
      },
      "source": [
        "plt.plot(Sign.history['loss'],label = \"Training loss\")\n",
        "plt.plot(Sign.history['val_loss'],label = \"val loss\")\n",
        "plt.title(\"Loss\")\n",
        "plt.xlabel(\"Epochs\")\n",
        "plt.ylabel(\"loss\")\n",
        "plt.legend()\n",
        "plt.show()"
      ],
      "execution_count": 39,
      "outputs": [
        {
          "output_type": "display_data",
          "data": {
            "image/png": "[encoded data removed]",
            "text/plain": [
              "<Figure size 432x288 with 1 Axes>"
            ]
          },
          "metadata": {
            "needs_background": "light"
          }
        }
      ]
    },
    {
      "cell_type": "code",
      "metadata": {
        "id": "kKrQZ5IfjiDu"
      },
      "source": [
        "def testing(testcsv):\n",
        "  y_test = pd.read_csv(testcsv)\n",
        "  label = y_test['ClassId'].values\n",
        "  imgs = y_test['Path'].values\n",
        "  data = []\n",
        "  for img in imgs:\n",
        "    image = Image.open(img)\n",
        "    image = image.resize((30,30))\n",
        "    data.append(np.array(image))\n",
        "  x_test = np.array(data)\n",
        "  return x_test,label"
      ],
      "execution_count": 40,
      "outputs": []
    },
    {
      "cell_type": "code",
      "metadata": {
        "id": "uTvnNwkTonis"
      },
      "source": [
        "model.save('./training/TSR.h5')"
      ],
      "execution_count": 41,
      "outputs": []
    },
    {
      "cell_type": "code",
      "metadata": {
        "id": "tVePUYXklp1t"
      },
      "source": [
        "x_test,label = testing('Test.csv')"
      ],
      "execution_count": 42,
      "outputs": []
    },
    {
      "cell_type": "code",
      "metadata": {
        "id": "5yftJ5Unl1qm"
      },
      "source": [
        "model = load_model('./training/TSR.h5')"
      ],
      "execution_count": 43,
      "outputs": []
    },
    {
      "cell_type": "code",
      "metadata": {
        "colab": {
          "base_uri": "https://localhost:8080/"
        },
        "id": "D64uMuaizffE",
        "outputId": "6a8d4672-96cc-4891-9768-756dc5c936c1"
      },
      "source": [
        "y_pred = np.argmax(model.predict(x_test), axis=-1)\n",
        "y_pred"
      ],
      "execution_count": 44,
      "outputs": [
        {
          "output_type": "execute_result",
          "data": {
            "text/plain": [
              "array([16,  1, 38, ..., 32,  7, 10])"
            ]
          },
          "metadata": {},
          "execution_count": 44
        }
      ]
    },
    {
      "cell_type": "code",
      "metadata": {
        "colab": {
          "base_uri": "https://localhost:8080/"
        },
        "id": "oGYW2FZTzvsY",
        "outputId": "7aacf216-224f-498f-f73b-324d9c18c746"
      },
      "source": [
        "from sklearn.metrics import accuracy_score\n",
        "print(accuracy_score(label,y_pred))"
      ],
      "execution_count": 45,
      "outputs": [
        {
          "output_type": "stream",
          "name": "stdout",
          "text": [
            "0.9541567695961995\n"
          ]
        }
      ]
    },
    {
      "cell_type": "code",
      "metadata": {
        "id": "1TCqIXCc2_5G"
      },
      "source": [
        "classes = { 0:'Speed limit (20km/h)',\n",
        "            1:'Speed limit (30km/h)',\n",
        "            2:'Speed limit (50km/h)',\n",
        "            3:'Speed limit (60km/h)',\n",
        "            4:'Speed limit (70km/h)',\n",
        "            5:'Speed limit (80km/h)',\n",
        "            6:'End of speed limit (80km/h)',\n",
        "            7:'Speed limit (100km/h)',\n",
        "            8:'Speed limit (120km/h)',\n",
        "            9:'No passing',\n",
        "            10:'No passing veh over 3.5 tons',\n",
        "            11:'Right-of-way at intersection',\n",
        "            12:'Priority road',\n",
        "            13:'Yield',\n",
        "            14:'Stop',\n",
        "            15:'No vehicles',\n",
        "            16:'Vehicle > 3.5 tons prohibited',\n",
        "            17:'No entry',\n",
        "            18:'General caution',\n",
        "            19:'Dangerous curve left',\n",
        "            20:'Dangerous curve right',\n",
        "            21:'Double curve',\n",
        "            22:'Bumpy road',\n",
        "            23:'Slippery road',\n",
        "            24:'Road narrows on the right',\n",
        "            25:'Road work',\n",
        "            26:'Traffic signals',\n",
        "            27:'Pedestrians',\n",
        "            28:'Children crossing',\n",
        "            29:'Bicycles crossing',\n",
        "            30:'Beware of ice/snow',\n",
        "            31:'Wild animals crossing',\n",
        "            32:'End speed + passing limits',\n",
        "            33:'Turn right ahead',\n",
        "            34:'Turn left ahead',\n",
        "            35:'Ahead only',\n",
        "            36:'Go straight or right',\n",
        "            37:'Go straight or left',\n",
        "            38:'Keep right',\n",
        "            39:'Keep left',\n",
        "            40:'Roundabout mandatory',\n",
        "            41:'End of no passing',\n",
        "            42:'End no passing vehicle > 3.5 tons' }\n"
      ],
      "execution_count": 46,
      "outputs": []
    },
    {
      "cell_type": "code",
      "metadata": {
        "id": "gb9jRhvr55-b"
      },
      "source": [
        "def TestOnImg(img):\n",
        "  data = []\n",
        "  image = Image.open(img)\n",
        "  image = image.resize((30,30))\n",
        "  data.append(np.array(image))\n",
        "  x_test = np.array(data)\n",
        "  y_pred = np.argmax(model.predict(x_test), axis=-1)\n",
        "  return image,y_pred"
      ],
      "execution_count": 47,
      "outputs": []
    },
    {
      "cell_type": "code",
      "metadata": {
        "colab": {
          "base_uri": "https://localhost:8080/",
          "height": 283
        },
        "id": "hqH2NsM16uCA",
        "outputId": "c2c27b78-c303-49fa-aad2-2567f20e4727"
      },
      "source": [
        "plot,prediction = TestOnImg('Test/00032.png')\n",
        "s = [str(i) for i in prediction]\n",
        "a = int(\"\".join(s))\n",
        "print(\"predicted traffic sign is:\", classes[a])\n",
        "plt.imshow(plot)\n",
        "plt.show()"
      ],
      "execution_count": 48,
      "outputs": [
        {
          "output_type": "stream",
          "name": "stdout",
          "text": [
            "predicted traffic sign is: Turn left ahead\n"
          ]
        },
        {
          "output_type": "display_data",
          "data": {
            "image/png": "[encoded data removed]",
            "text/plain": [
              "<Figure size 432x288 with 1 Axes>"
            ]
          },
          "metadata": {
            "needs_background": "light"
          }
        }
      ]
    },
    {
      "cell_type": "code",
      "metadata": {
        "id": "eo-EqQTj7fcj"
      },
      "source": [
        ""
      ],
      "execution_count": null,
      "outputs": []
    }
  ]
}